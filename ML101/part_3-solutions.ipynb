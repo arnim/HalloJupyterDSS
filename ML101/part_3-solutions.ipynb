{
 "cells": [
  {
   "cell_type": "markdown",
   "metadata": {
    "id": "cTrH9c7oaae3"
   },
   "source": [
    "# Applications of ML: Natural Language Processing"
   ]
  },
  {
   "cell_type": "code",
   "execution_count": null,
   "metadata": {
    "id": "i-JDBAqSaae8"
   },
   "outputs": [],
   "source": [
    "import matplotlib.pyplot as plt\n",
    "import numpy as np\n",
    "import pandas as pd\n",
    "%matplotlib inline"
   ]
  },
  {
   "cell_type": "markdown",
   "metadata": {
    "id": "xVFzQ8ERaae9"
   },
   "source": [
    "### [Bag of Words](https://en.wikipedia.org/wiki/Bag-of-words_model) / [Vector Space](https://en.wikipedia.org/wiki/Vector_space_model) Representation\n",
    "<img src=\"http://uc-r.github.io/public/images/analytics/feature-engineering/bow-image.png\" width=\"20%\">"
   ]
  },
  {
   "cell_type": "code",
   "execution_count": null,
   "metadata": {
    "id": "h-2w5qCGaae-"
   },
   "outputs": [],
   "source": [
    "X = [\"it is a puppy and it is extremely cute\",\n",
    "     \"it is a cat.\"]"
   ]
  },
  {
   "cell_type": "code",
   "execution_count": null,
   "metadata": {
    "colab": {
     "base_uri": "https://localhost:8080/"
    },
    "executionInfo": {
     "elapsed": 1102,
     "status": "ok",
     "timestamp": 1632346172664,
     "user": {
      "displayName": "Arnim Bleier",
      "photoUrl": "https://lh3.googleusercontent.com/a-/AOh14Gj9FpxNjfcpe25EhN8fFktoI2VgFpDD6JYapnF1V-A=s64",
      "userId": "13209896281456228043"
     },
     "user_tz": -120
    },
    "id": "pBpyU9SIaae-",
    "outputId": "9fd75c65-5685-4b4f-e272-b1e232015666"
   },
   "outputs": [],
   "source": [
    "from sklearn.feature_extraction.text import CountVectorizer\n",
    "\n",
    "vectorizer = CountVectorizer()\n",
    "vectorizer.fit(X)"
   ]
  },
  {
   "cell_type": "code",
   "execution_count": null,
   "metadata": {
    "colab": {
     "base_uri": "https://localhost:8080/"
    },
    "executionInfo": {
     "elapsed": 37,
     "status": "ok",
     "timestamp": 1632346172664,
     "user": {
      "displayName": "Arnim Bleier",
      "photoUrl": "https://lh3.googleusercontent.com/a-/AOh14Gj9FpxNjfcpe25EhN8fFktoI2VgFpDD6JYapnF1V-A=s64",
      "userId": "13209896281456228043"
     },
     "user_tz": -120
    },
    "id": "KilgeA-Naae_",
    "outputId": "3f680d9a-2361-4d8a-d127-d9dbab3d5fa0"
   },
   "outputs": [],
   "source": [
    "X_bag_of_words = vectorizer.transform(X)\n",
    "X_bag_of_words.shape"
   ]
  },
  {
   "cell_type": "code",
   "execution_count": null,
   "metadata": {
    "colab": {
     "base_uri": "https://localhost:8080/"
    },
    "executionInfo": {
     "elapsed": 30,
     "status": "ok",
     "timestamp": 1632346172665,
     "user": {
      "displayName": "Arnim Bleier",
      "photoUrl": "https://lh3.googleusercontent.com/a-/AOh14Gj9FpxNjfcpe25EhN8fFktoI2VgFpDD6JYapnF1V-A=s64",
      "userId": "13209896281456228043"
     },
     "user_tz": -120
    },
    "id": "qOLZTeNZaafA",
    "outputId": "9d613232-7279-489b-ea58-73cfd28518c9"
   },
   "outputs": [],
   "source": [
    "X_bag_of_words"
   ]
  },
  {
   "cell_type": "code",
   "execution_count": null,
   "metadata": {
    "colab": {
     "base_uri": "https://localhost:8080/"
    },
    "executionInfo": {
     "elapsed": 28,
     "status": "ok",
     "timestamp": 1632346172667,
     "user": {
      "displayName": "Arnim Bleier",
      "photoUrl": "https://lh3.googleusercontent.com/a-/AOh14Gj9FpxNjfcpe25EhN8fFktoI2VgFpDD6JYapnF1V-A=s64",
      "userId": "13209896281456228043"
     },
     "user_tz": -120
    },
    "id": "HELbdDU9aafB",
    "outputId": "cd6a752b-dbd5-4d31-df4c-1dbd14e1feab"
   },
   "outputs": [],
   "source": [
    "X_bag_of_words.toarray()"
   ]
  },
  {
   "cell_type": "code",
   "execution_count": null,
   "metadata": {
    "colab": {
     "base_uri": "https://localhost:8080/"
    },
    "executionInfo": {
     "elapsed": 25,
     "status": "ok",
     "timestamp": 1632346172667,
     "user": {
      "displayName": "Arnim Bleier",
      "photoUrl": "https://lh3.googleusercontent.com/a-/AOh14Gj9FpxNjfcpe25EhN8fFktoI2VgFpDD6JYapnF1V-A=s64",
      "userId": "13209896281456228043"
     },
     "user_tz": -120
    },
    "id": "IMy3mS9KaafB",
    "outputId": "fe91e673-1d5e-453b-bc33-4960bd8f3cb3"
   },
   "outputs": [],
   "source": [
    "vectorizer.vocabulary_"
   ]
  },
  {
   "cell_type": "markdown",
   "metadata": {
    "id": "wQpqRPHPaafC"
   },
   "source": [
    "`Size of our vocabulary`"
   ]
  },
  {
   "cell_type": "code",
   "execution_count": null,
   "metadata": {
    "colab": {
     "base_uri": "https://localhost:8080/"
    },
    "executionInfo": {
     "elapsed": 22,
     "status": "ok",
     "timestamp": 1632346172668,
     "user": {
      "displayName": "Arnim Bleier",
      "photoUrl": "https://lh3.googleusercontent.com/a-/AOh14Gj9FpxNjfcpe25EhN8fFktoI2VgFpDD6JYapnF1V-A=s64",
      "userId": "13209896281456228043"
     },
     "user_tz": -120
    },
    "id": "Az3nbCAQaafD",
    "outputId": "3cafbb60-5695-4c31-ec97-68d7a7d8c13b"
   },
   "outputs": [],
   "source": [
    "len(vectorizer.vocabulary_)"
   ]
  },
  {
   "cell_type": "code",
   "execution_count": null,
   "metadata": {
    "colab": {
     "base_uri": "https://localhost:8080/"
    },
    "executionInfo": {
     "elapsed": 18,
     "status": "ok",
     "timestamp": 1632346172669,
     "user": {
      "displayName": "Arnim Bleier",
      "photoUrl": "https://lh3.googleusercontent.com/a-/AOh14Gj9FpxNjfcpe25EhN8fFktoI2VgFpDD6JYapnF1V-A=s64",
      "userId": "13209896281456228043"
     },
     "user_tz": -120
    },
    "id": "INNUkOVcaafD",
    "outputId": "2e10298f-af15-4c25-fe13-d785a7a22f74"
   },
   "outputs": [],
   "source": [
    "vectorizer.get_feature_names()"
   ]
  },
  {
   "cell_type": "code",
   "execution_count": null,
   "metadata": {
    "colab": {
     "base_uri": "https://localhost:8080/"
    },
    "executionInfo": {
     "elapsed": 16,
     "status": "ok",
     "timestamp": 1632346172672,
     "user": {
      "displayName": "Arnim Bleier",
      "photoUrl": "https://lh3.googleusercontent.com/a-/AOh14Gj9FpxNjfcpe25EhN8fFktoI2VgFpDD6JYapnF1V-A=s64",
      "userId": "13209896281456228043"
     },
     "user_tz": -120
    },
    "id": "CwybCckaaafE",
    "outputId": "fbd4e275-3374-4644-e7e9-7498cce70bf2"
   },
   "outputs": [],
   "source": [
    "vectorizer.inverse_transform(X_bag_of_words)"
   ]
  },
  {
   "cell_type": "markdown",
   "metadata": {
    "id": "DTLclHQeaafE"
   },
   "source": [
    "## [tf–idf](https://en.wikipedia.org/wiki/Tf–idf) (Excurse)\n",
    "Term Frequency–Inverse Document Frequency is a numerical statistic that is intended to reflect how important a word is to a document in a collection or corpus.\n",
    "tf-idf rescales words that occur in many documents to have less weight (see [here](https://scikit-learn.org/stable/modules/generated/sklearn.feature_extraction.text.TfidfVectorizer.html) for scikit implementation). "
   ]
  },
  {
   "cell_type": "code",
   "execution_count": null,
   "metadata": {
    "colab": {
     "base_uri": "https://localhost:8080/"
    },
    "executionInfo": {
     "elapsed": 5,
     "status": "ok",
     "timestamp": 1632346173212,
     "user": {
      "displayName": "Arnim Bleier",
      "photoUrl": "https://lh3.googleusercontent.com/a-/AOh14Gj9FpxNjfcpe25EhN8fFktoI2VgFpDD6JYapnF1V-A=s64",
      "userId": "13209896281456228043"
     },
     "user_tz": -120
    },
    "id": "DRAKQ5f0aafF",
    "outputId": "abcb2854-5662-45a8-d997-8242356b0581"
   },
   "outputs": [],
   "source": [
    "from sklearn.feature_extraction.text import TfidfVectorizer\n",
    "\n",
    "tfidf_vectorizer = TfidfVectorizer()\n",
    "tfidf_vectorizer.fit(X)"
   ]
  },
  {
   "cell_type": "code",
   "execution_count": null,
   "metadata": {
    "colab": {
     "base_uri": "https://localhost:8080/"
    },
    "executionInfo": {
     "elapsed": 5,
     "status": "ok",
     "timestamp": 1632346173891,
     "user": {
      "displayName": "Arnim Bleier",
      "photoUrl": "https://lh3.googleusercontent.com/a-/AOh14Gj9FpxNjfcpe25EhN8fFktoI2VgFpDD6JYapnF1V-A=s64",
      "userId": "13209896281456228043"
     },
     "user_tz": -120
    },
    "id": "yvUmDWCKaafF",
    "outputId": "54aa9b00-140f-400e-ce7d-3b90537abfa8"
   },
   "outputs": [],
   "source": [
    "tfidf_vectorizer.transform(X).toarray()"
   ]
  },
  {
   "cell_type": "markdown",
   "metadata": {
    "id": "nkoDxzjlaafG"
   },
   "source": [
    "## Case Study - Spam Detection"
   ]
  },
  {
   "cell_type": "markdown",
   "metadata": {
    "id": "AizOYYgNaafG"
   },
   "source": [
    "We load the [SMS Spam Collection Data Set](https://archive.ics.uci.edu/ml/datasets/sms+spam+collection) from our `data` directory\n",
    "\n",
    "and perform a preprocessing to split the data array into two parts:\n",
    "\n",
    "1. `text`: A list of lists, each containing the contents of a document\n",
    "2. `y`: the labels; 1 representing spam and 0 for a non-spam message. "
   ]
  },
  {
   "cell_type": "code",
   "execution_count": null,
   "metadata": {
    "id": "m5Rs8SMVaafG"
   },
   "outputs": [],
   "source": [
    "lines = pd.read_csv (\"https://raw.githubusercontent.com/gesiscss/WDCNLP/main/data/SMSSpamCollection.tsv\", sep='\\t', header=None).values.tolist()"
   ]
  },
  {
   "cell_type": "code",
   "execution_count": null,
   "metadata": {
    "id": "Wlg_Spl1aafG"
   },
   "outputs": [],
   "source": [
    "text = [x[1] for x in lines]\n",
    "y = [int(x[0] == \"spam\") for x in lines]"
   ]
  },
  {
   "cell_type": "markdown",
   "metadata": {
    "id": "BPGM4POmaafH"
   },
   "source": [
    "## Display the first 5 documents "
   ]
  },
  {
   "cell_type": "code",
   "execution_count": null,
   "metadata": {
    "colab": {
     "base_uri": "https://localhost:8080/"
    },
    "executionInfo": {
     "elapsed": 310,
     "status": "ok",
     "timestamp": 1632346720286,
     "user": {
      "displayName": "Arnim Bleier",
      "photoUrl": "https://lh3.googleusercontent.com/a-/AOh14Gj9FpxNjfcpe25EhN8fFktoI2VgFpDD6JYapnF1V-A=s64",
      "userId": "13209896281456228043"
     },
     "user_tz": -120
    },
    "id": "Tl3EcirEaafH",
    "outputId": "52773fbe-dde1-42b8-ad3e-aa51ba1c20db"
   },
   "outputs": [],
   "source": [
    "# %load solutions/l3_1.py\n",
    "text[:5]"
   ]
  },
  {
   "cell_type": "markdown",
   "metadata": {
    "id": "1A1oDB5uaafH"
   },
   "source": [
    "## Display the first 5 labels "
   ]
  },
  {
   "cell_type": "code",
   "execution_count": null,
   "metadata": {
    "colab": {
     "base_uri": "https://localhost:8080/"
    },
    "executionInfo": {
     "elapsed": 302,
     "status": "ok",
     "timestamp": 1632346749163,
     "user": {
      "displayName": "Arnim Bleier",
      "photoUrl": "https://lh3.googleusercontent.com/a-/AOh14Gj9FpxNjfcpe25EhN8fFktoI2VgFpDD6JYapnF1V-A=s64",
      "userId": "13209896281456228043"
     },
     "user_tz": -120
    },
    "id": "oBLUMmjCaafH",
    "outputId": "9d36cdbf-b8d1-4eac-c121-0dc4410b66ec"
   },
   "outputs": [],
   "source": [
    "# %load solutions/l3_2.py\n",
    "y[:5]"
   ]
  },
  {
   "cell_type": "markdown",
   "metadata": {
    "id": "DUmpihLBaafI"
   },
   "source": [
    "## Compute the number of spam non-spam messages:"
   ]
  },
  {
   "cell_type": "code",
   "execution_count": null,
   "metadata": {
    "colab": {
     "base_uri": "https://localhost:8080/"
    },
    "executionInfo": {
     "elapsed": 356,
     "status": "ok",
     "timestamp": 1632346754328,
     "user": {
      "displayName": "Arnim Bleier",
      "photoUrl": "https://lh3.googleusercontent.com/a-/AOh14Gj9FpxNjfcpe25EhN8fFktoI2VgFpDD6JYapnF1V-A=s64",
      "userId": "13209896281456228043"
     },
     "user_tz": -120
    },
    "id": "5l8FgH4ZaafI",
    "outputId": "3e7cd74c-e225-4539-bb10-9052148d79b8"
   },
   "outputs": [],
   "source": [
    "# %load solutions/l3_3.py\n",
    "pd.value_counts(y)"
   ]
  },
  {
   "cell_type": "markdown",
   "metadata": {
    "id": "F0cHj48TaafI"
   },
   "source": [
    "## Split the Data into a training and test set"
   ]
  },
  {
   "cell_type": "code",
   "execution_count": null,
   "metadata": {
    "id": "eL0XJZjaaafI"
   },
   "outputs": [],
   "source": [
    "# %load solutions/l3_4.py\n",
    "from sklearn.model_selection import train_test_split\n",
    "\n",
    "text_train, text_test, y_train, y_test = train_test_split(text, y, \n",
    "                                                          random_state=42,\n",
    "                                                          test_size=0.25,\n",
    "                                                          stratify=y)"
   ]
  },
  {
   "cell_type": "markdown",
   "metadata": {
    "id": "MkuxnW8JaafJ"
   },
   "source": [
    "## Use the CountVectorizer to parse the text data into a bag-of-words model"
   ]
  },
  {
   "cell_type": "code",
   "execution_count": null,
   "metadata": {
    "id": "Cp_G1ZjXaafK"
   },
   "outputs": [],
   "source": [
    "# %load solutions/l3_5.py\n",
    "vectorizer = CountVectorizer()\n",
    "vectorizer.fit(text_train)\n",
    "\n",
    "X_train = vectorizer.transform(text_train)\n",
    "X_test = vectorizer.transform(text_test)"
   ]
  },
  {
   "cell_type": "markdown",
   "metadata": {
    "id": "1w96KuntaafK"
   },
   "source": [
    "## What is the size of our vocabulary?"
   ]
  },
  {
   "cell_type": "code",
   "execution_count": null,
   "metadata": {
    "colab": {
     "base_uri": "https://localhost:8080/"
    },
    "executionInfo": {
     "elapsed": 231,
     "status": "ok",
     "timestamp": 1632346762171,
     "user": {
      "displayName": "Arnim Bleier",
      "photoUrl": "https://lh3.googleusercontent.com/a-/AOh14Gj9FpxNjfcpe25EhN8fFktoI2VgFpDD6JYapnF1V-A=s64",
      "userId": "13209896281456228043"
     },
     "user_tz": -120
    },
    "id": "uAREd2LLaafK",
    "outputId": "cacbb45a-7fed-47ce-e784-75129d82b97f"
   },
   "outputs": [],
   "source": [
    "# %load solutions/l3_6.py\n",
    "len(vectorizer.vocabulary_)"
   ]
  },
  {
   "cell_type": "markdown",
   "metadata": {
    "id": "NmrOpP9aaafL"
   },
   "source": [
    "## What is the dinensionality of text_train?"
   ]
  },
  {
   "cell_type": "code",
   "execution_count": null,
   "metadata": {
    "colab": {
     "base_uri": "https://localhost:8080/"
    },
    "executionInfo": {
     "elapsed": 220,
     "status": "ok",
     "timestamp": 1632346764228,
     "user": {
      "displayName": "Arnim Bleier",
      "photoUrl": "https://lh3.googleusercontent.com/a-/AOh14Gj9FpxNjfcpe25EhN8fFktoI2VgFpDD6JYapnF1V-A=s64",
      "userId": "13209896281456228043"
     },
     "user_tz": -120
    },
    "id": "ebm9ZKs4aafL",
    "outputId": "a1284bc5-2f24-4319-e8f6-40c205c5cdd7"
   },
   "outputs": [],
   "source": [
    "# %load solutions/l3_7.py\n",
    "X_train.shape"
   ]
  },
  {
   "cell_type": "markdown",
   "metadata": {
    "id": "hsGfhp-FaafL"
   },
   "source": [
    "## ... and what is the dinensionality of X_test?"
   ]
  },
  {
   "cell_type": "code",
   "execution_count": null,
   "metadata": {
    "colab": {
     "base_uri": "https://localhost:8080/"
    },
    "executionInfo": {
     "elapsed": 222,
     "status": "ok",
     "timestamp": 1632346766261,
     "user": {
      "displayName": "Arnim Bleier",
      "photoUrl": "https://lh3.googleusercontent.com/a-/AOh14Gj9FpxNjfcpe25EhN8fFktoI2VgFpDD6JYapnF1V-A=s64",
      "userId": "13209896281456228043"
     },
     "user_tz": -120
    },
    "id": "zMJRk026aafM",
    "outputId": "253c95ac-65c5-4724-d5cb-499cb2e3ecd1"
   },
   "outputs": [],
   "source": [
    "# %load solutions/l3_8.py\n",
    "X_test.shape"
   ]
  },
  {
   "cell_type": "markdown",
   "metadata": {
    "id": "J7bWB114aafM"
   },
   "source": [
    "## Train a [LogisticRegression](https://scikit-learn.org/stable/modules/generated/sklearn.linear_model.LogisticRegression.html) model on 'X_train'"
   ]
  },
  {
   "cell_type": "code",
   "execution_count": null,
   "metadata": {
    "colab": {
     "base_uri": "https://localhost:8080/"
    },
    "executionInfo": {
     "elapsed": 306,
     "status": "ok",
     "timestamp": 1632346768207,
     "user": {
      "displayName": "Arnim Bleier",
      "photoUrl": "https://lh3.googleusercontent.com/a-/AOh14Gj9FpxNjfcpe25EhN8fFktoI2VgFpDD6JYapnF1V-A=s64",
      "userId": "13209896281456228043"
     },
     "user_tz": -120
    },
    "id": "ab78uV7uaafM",
    "outputId": "62580456-cf0c-4a75-d9d2-f9ac0addae23"
   },
   "outputs": [],
   "source": [
    "# %load solutions/l3_9.py\n",
    "from sklearn.linear_model import LogisticRegression\n",
    "\n",
    "clf = LogisticRegression(solver = \"lbfgs\")\n",
    "clf.fit(X_train, y_train)"
   ]
  },
  {
   "cell_type": "markdown",
   "metadata": {
    "id": "Vj4kcPtSaafN"
   },
   "source": [
    "## Compute the accuracy on the test data"
   ]
  },
  {
   "cell_type": "code",
   "execution_count": null,
   "metadata": {
    "colab": {
     "base_uri": "https://localhost:8080/"
    },
    "executionInfo": {
     "elapsed": 5,
     "status": "ok",
     "timestamp": 1632346770031,
     "user": {
      "displayName": "Arnim Bleier",
      "photoUrl": "https://lh3.googleusercontent.com/a-/AOh14Gj9FpxNjfcpe25EhN8fFktoI2VgFpDD6JYapnF1V-A=s64",
      "userId": "13209896281456228043"
     },
     "user_tz": -120
    },
    "id": "sHWmDTs9aafN",
    "outputId": "b4165e55-3c25-4a7c-9cb1-77abc2aa5f6b"
   },
   "outputs": [],
   "source": [
    "# %load solutions/l3_10.py\n",
    "from sklearn.metrics import accuracy_score\n",
    "\n",
    "predicted_test = clf.predict(X_test)\n",
    "accuracy_score(y_test, predicted_test)"
   ]
  },
  {
   "cell_type": "markdown",
   "metadata": {
    "id": "Q9tj83NLaafN"
   },
   "source": [
    "Function to visualize coefficients of a linear model."
   ]
  },
  {
   "cell_type": "code",
   "execution_count": null,
   "metadata": {
    "id": "cI_uv0--aafN"
   },
   "outputs": [],
   "source": [
    "def visualize_coefficients(classifier, feature_names, n_top_features=25):\n",
    "    # see http://github.com/amueller/mglearn/blob/cbae37d906261dad173cbc6696dcef69dfd0cbaf/mglearn/tools.py\n",
    "    # and http://github.com/amueller/scipy-2018-sklearn\n",
    "    coef = classifier.coef_.ravel()\n",
    "    positive_coefficients = np.argsort(coef)[-n_top_features:]\n",
    "    negative_coefficients = np.argsort(coef)[:n_top_features]\n",
    "    interesting_coefficients = np.hstack([negative_coefficients, positive_coefficients])\n",
    "    # plot them\n",
    "    plt.figure(figsize=(15, 5))\n",
    "    colors = [\"tab:orange\" if c < 0 else \"tab:blue\" for c in coef[interesting_coefficients]]\n",
    "    plt.bar(np.arange(2 * n_top_features), coef[interesting_coefficients], color=colors)\n",
    "    feature_names = np.array(feature_names)\n",
    "    plt.xticks(np.arange(1, 2 * n_top_features + 1), feature_names[interesting_coefficients], rotation=60, ha=\"right\");"
   ]
  },
  {
   "cell_type": "code",
   "execution_count": null,
   "metadata": {
    "colab": {
     "base_uri": "https://localhost:8080/",
     "height": 351
    },
    "executionInfo": {
     "elapsed": 9,
     "status": "ok",
     "timestamp": 1632346773438,
     "user": {
      "displayName": "Arnim Bleier",
      "photoUrl": "https://lh3.googleusercontent.com/a-/AOh14Gj9FpxNjfcpe25EhN8fFktoI2VgFpDD6JYapnF1V-A=s64",
      "userId": "13209896281456228043"
     },
     "user_tz": -120
    },
    "id": "XSjC1q-GaafO",
    "outputId": "a6e7d40f-99c0-4d10-d3ba-bfac86910788"
   },
   "outputs": [],
   "source": [
    "visualize_coefficients(clf, vectorizer.get_feature_names(), n_top_features = 10)"
   ]
  },
  {
   "cell_type": "markdown",
   "metadata": {
    "id": "Qq9nVxBJaafO"
   },
   "source": [
    "## Exercise: Only consider words that occure in at least 2 documents\n",
    "\n",
    "Use the [min_df](https://scikit-learn.org/stable/modules/generated/sklearn.feature_extraction.text.CountVectorizer.html) argument in CountVectorizer."
   ]
  },
  {
   "cell_type": "code",
   "execution_count": null,
   "metadata": {
    "colab": {
     "base_uri": "https://localhost:8080/"
    },
    "executionInfo": {
     "elapsed": 312,
     "status": "ok",
     "timestamp": 1632346777736,
     "user": {
      "displayName": "Arnim Bleier",
      "photoUrl": "https://lh3.googleusercontent.com/a-/AOh14Gj9FpxNjfcpe25EhN8fFktoI2VgFpDD6JYapnF1V-A=s64",
      "userId": "13209896281456228043"
     },
     "user_tz": -120
    },
    "id": "vcOX438JaafO",
    "outputId": "4bc1ccd7-898e-40d4-f653-584a68b37f4d"
   },
   "outputs": [],
   "source": [
    "# %load solutions/l3_11.py\n",
    "vectorizer = CountVectorizer(min_df=2)\n",
    "vectorizer.fit(text_train)\n",
    "\n",
    "X_train = vectorizer.transform(text_train)\n",
    "X_test = vectorizer.transform(text_test)\n",
    "\n",
    "clf = LogisticRegression(solver = \"lbfgs\")\n",
    "clf.fit(X_train, y_train)"
   ]
  },
  {
   "cell_type": "markdown",
   "metadata": {
    "id": "9q7IPdY9aafP"
   },
   "source": [
    "## Exercise: What is the size of our vocabulary?"
   ]
  },
  {
   "cell_type": "code",
   "execution_count": null,
   "metadata": {
    "colab": {
     "base_uri": "https://localhost:8080/"
    },
    "executionInfo": {
     "elapsed": 408,
     "status": "ok",
     "timestamp": 1632346779581,
     "user": {
      "displayName": "Arnim Bleier",
      "photoUrl": "https://lh3.googleusercontent.com/a-/AOh14Gj9FpxNjfcpe25EhN8fFktoI2VgFpDD6JYapnF1V-A=s64",
      "userId": "13209896281456228043"
     },
     "user_tz": -120
    },
    "id": "UvnXD-68aafP",
    "outputId": "644f5fac-a7bb-4958-e298-f534027cd270"
   },
   "outputs": [],
   "source": [
    "# %load solutions/l3_12.py\n",
    "len(vectorizer.vocabulary_)"
   ]
  },
  {
   "cell_type": "markdown",
   "metadata": {
    "id": "EbGi16AvaafP"
   },
   "source": [
    "## Exercise: Comppute the test accuracy using [score](https://scikit-learn.org/stable/modules/generated/sklearn.linear_model.LogisticRegression.html#sklearn.linear_model.LogisticRegression.score)"
   ]
  },
  {
   "cell_type": "code",
   "execution_count": null,
   "metadata": {
    "colab": {
     "base_uri": "https://localhost:8080/"
    },
    "executionInfo": {
     "elapsed": 353,
     "status": "ok",
     "timestamp": 1632346782074,
     "user": {
      "displayName": "Arnim Bleier",
      "photoUrl": "https://lh3.googleusercontent.com/a-/AOh14Gj9FpxNjfcpe25EhN8fFktoI2VgFpDD6JYapnF1V-A=s64",
      "userId": "13209896281456228043"
     },
     "user_tz": -120
    },
    "id": "ZDLPlLVkaafP",
    "outputId": "e619cc9e-9f68-4336-9991-e524d8837f2b"
   },
   "outputs": [],
   "source": [
    "# %load solutions/l3_13.py\n",
    "clf.score(X_test, y_test)"
   ]
  },
  {
   "cell_type": "markdown",
   "metadata": {
    "id": "kbm_lfQcaafP"
   },
   "source": [
    "## Exercise: Visualize the top 15 coefficients"
   ]
  },
  {
   "cell_type": "code",
   "execution_count": null,
   "metadata": {
    "colab": {
     "base_uri": "https://localhost:8080/",
     "height": 354
    },
    "executionInfo": {
     "elapsed": 630,
     "status": "ok",
     "timestamp": 1632346784194,
     "user": {
      "displayName": "Arnim Bleier",
      "photoUrl": "https://lh3.googleusercontent.com/a-/AOh14Gj9FpxNjfcpe25EhN8fFktoI2VgFpDD6JYapnF1V-A=s64",
      "userId": "13209896281456228043"
     },
     "user_tz": -120
    },
    "id": "PCigsDBlaafQ",
    "outputId": "ab43ce40-14f6-443f-f2e0-09ef308b3426"
   },
   "outputs": [],
   "source": [
    "# %load solutions/l3_14.py\n",
    "visualize_coefficients(clf, vectorizer.get_feature_names(),  n_top_features = 15)"
   ]
  },
  {
   "cell_type": "markdown",
   "metadata": {
    "id": "8TLyILeEaafQ"
   },
   "source": [
    "## Bonus Exercise: Use the [TfidfVectorizer](https://scikit-learn.org/stable/modules/generated/sklearn.feature_extraction.text.TfidfVectorizer.html) and compare your results"
   ]
  },
  {
   "cell_type": "code",
   "execution_count": null,
   "metadata": {
    "colab": {
     "base_uri": "https://localhost:8080/",
     "height": 354
    },
    "executionInfo": {
     "elapsed": 830,
     "status": "ok",
     "timestamp": 1632346786647,
     "user": {
      "displayName": "Arnim Bleier",
      "photoUrl": "https://lh3.googleusercontent.com/a-/AOh14Gj9FpxNjfcpe25EhN8fFktoI2VgFpDD6JYapnF1V-A=s64",
      "userId": "13209896281456228043"
     },
     "user_tz": -120
    },
    "id": "NmOrOHyIaafQ",
    "outputId": "e90e9513-8fa7-4e99-a641-6b9804cf3753"
   },
   "outputs": [],
   "source": [
    "# %load solutions/l3_15.py\n",
    "vectorizer = TfidfVectorizer()\n",
    "vectorizer.fit(text_train)\n",
    "\n",
    "X_train = vectorizer.transform(text_train)\n",
    "X_test = vectorizer.transform(text_test)\n",
    "\n",
    "clf = LogisticRegression(solver = \"lbfgs\")\n",
    "clf.fit(X_train, y_train)\n",
    "\n",
    "\n",
    "visualize_coefficients(clf, vectorizer.get_feature_names(), n_top_features = 10)\n",
    "print(\"Accuracy: \" + str(clf.score(X_test, y_test)))"
   ]
  },
  {
   "cell_type": "code",
   "execution_count": null,
   "metadata": {
    "id": "H2zrIwsWaafQ"
   },
   "outputs": [],
   "source": []
  },
  {
   "cell_type": "code",
   "execution_count": null,
   "metadata": {},
   "outputs": [],
   "source": []
  }
 ],
 "metadata": {
  "colab": {
   "collapsed_sections": [],
   "name": "4_applications-solutions.ipynb",
   "provenance": []
  },
  "kernelspec": {
   "display_name": "Python 3 (ipykernel)",
   "language": "python",
   "name": "python3"
  },
  "language_info": {
   "codemirror_mode": {
    "name": "ipython",
    "version": 3
   },
   "file_extension": ".py",
   "mimetype": "text/x-python",
   "name": "python",
   "nbconvert_exporter": "python",
   "pygments_lexer": "ipython3",
   "version": "3.9.7"
  }
 },
 "nbformat": 4,
 "nbformat_minor": 4
}
