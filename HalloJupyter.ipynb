{
 "cells": [
  {
   "cell_type": "markdown",
   "id": "09358532-d0ae-4f6e-949f-e8277939c3f1",
   "metadata": {},
   "source": [
    "# Hallo Jupyter\n",
    "\n",
    "> Project [Jupyter](http://jupyter.org) ist der Herausgeber von Softwareprodukten für interaktive wissenschaftliche Datenauswertung und wissenschaftliche Berechnungen. Der Name Jupyter bezieht sich auf die drei wesentlichen Programmiersprachen Julia, Python und R und ist auch eine Hommage an Galileos Notizbucheinträge zur Entdeckung der Jupitermonde, bei denen Galileo Beobachtungen und Messdaten zusammen mit Metadaten darstellte. Project Jupyter hat die Produkte Jupyter Notebook, JupyterHub und JupyterLab entwickelt. ([Wikipedia](https://de.wikipedia.org/wiki/Project_Jupyter))"
   ]
  },
  {
   "cell_type": "markdown",
   "id": "b047dd86-932e-4639-841f-8a335337aea3",
   "metadata": {},
   "source": [
    "## [Literate programming](https://de.wikipedia.org/wiki/Literate_programming)\n",
    "\n",
    "![Notebooks](pics/notebooks.png)\n",
    "\n",
    "Der Code in einem Jupyter Notebook wird in Blöcken / Zellen (engl. cells) erstellt und ausgeführt. Zellen sind entweder **Code-Zellen**, die Python-Code enthalten, oder **Markdown-Zellen**, die die Dokumentation des jeweiligen Blocks im [Markdown-Format](https://www.markdownguide.org/cheat-sheet/) enthalten."
   ]
  },
  {
   "cell_type": "markdown",
   "id": "c4d29ceb-ae9f-4ef1-a112-a319939fb0a3",
   "metadata": {},
   "source": [
    "Der Interpreter kann wie ein Taschenrechner eingesetzt werden: Man kann einen Ausdruck eingeben und der Interpreter berechnet das Ergebnis. Die Syntax für solche Ausdrücke ist einfach: Die Operatoren +, -, * und / wirken genauso wie in den meisten anderen Sprachen (beispielsweise Pascal oder C); Klammern können zur Gruppierung benutzt werden (aus [Python Tutorial](https://py-tutorial-de.readthedocs.io/de/python-3.3/introduction.html)).\n",
    "\n",
    "Versuche zum Beispiel\n",
    "```\n",
    "3 + 8\n",
    "```\n",
    "in die folgende Code-Zellen einzugeben."
   ]
  },
  {
   "cell_type": "code",
   "execution_count": null,
   "id": "424e2e55-df1a-4cef-8e2b-a6d0b5610796",
   "metadata": {},
   "outputs": [],
   "source": []
  },
  {
   "cell_type": "markdown",
   "id": "ff79438a-6ead-4c92-9c52-d001c61a9873",
   "metadata": {},
   "source": [
    "<div class=\"alert alert-info\", style=\"font-size:16px\">\n",
    "    <img src=\"https://emojipedia-us.s3.dualstack.us-west-1.amazonaws.com/thumbs/120/apple/237/electric-light-bulb_1f4a1.png\" width=\"20\"/>  Um diese Zelle auszuführen drücke <strong>Shift+Enter</strong>.\n",
    "</div>"
   ]
  },
  {
   "cell_type": "markdown",
   "id": "e85d4044-28ff-40a2-8bfd-5e988b5a1fac",
   "metadata": {},
   "source": [
    "## Übung\n",
    "\n",
    "*[Automate the Boring Stuff with Python](https://automatetheboringstuff.com/2e/chapter1/)* ist eine fantastische quelle [Python](https://www.python.org) zu lernen. Gehe in das Kapitel *PYTHON BASICS* und probiere Code in diesem Notebook aus. Alternativ kannst du auch ein eigenes neues Notebook verwenden."
   ]
  },
  {
   "cell_type": "code",
   "execution_count": null,
   "id": "0ea12af2-b640-4ffe-b419-88ddf25bcff9",
   "metadata": {},
   "outputs": [],
   "source": []
  },
  {
   "cell_type": "code",
   "execution_count": null,
   "id": "7a1983a8-8061-48fd-9d49-d5dd6ea1c113",
   "metadata": {},
   "outputs": [],
   "source": []
  }
 ],
 "metadata": {
  "kernelspec": {
   "display_name": "Python 3 (ipykernel)",
   "language": "python",
   "name": "python3"
  },
  "language_info": {
   "codemirror_mode": {
    "name": "ipython",
    "version": 3
   },
   "file_extension": ".py",
   "mimetype": "text/x-python",
   "name": "python",
   "nbconvert_exporter": "python",
   "pygments_lexer": "ipython3",
   "version": "3.9.13"
  }
 },
 "nbformat": 4,
 "nbformat_minor": 5
}
